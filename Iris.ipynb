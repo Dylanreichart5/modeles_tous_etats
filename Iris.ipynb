{
 "cells": [
  {
   "cell_type": "markdown",
   "id": "92914935",
   "metadata": {},
   "source": [
    "# Tutoriel de machine learning non supervisé avec K-means"
   ]
  },
  {
   "cell_type": "markdown",
   "id": "7df3dc8c",
   "metadata": {},
   "source": [
    "Le but de ce tutoriel sera de prendre un set de donnée et créer un modèle de machine learning qui devra classer ses données sans qu'on lui donne de paramètres. Le résultat attendu sera de classer en 3 groupes distinct les données par similarité"
   ]
  },
  {
   "cell_type": "markdown",
   "id": "5fb0012f",
   "metadata": {},
   "source": [
    "Ce classement sera fait à l'aide d'un centroide. Le centroide est le point que l'on va determiner grace a la distance moyenne de tous les points du cluster\n",
    "Il y'aura donc un centroide par cluster, dans notre exemple 3 centroide."
   ]
  },
  {
   "cell_type": "markdown",
   "id": "c639a460",
   "metadata": {},
   "source": [
    "### Importation des différentes librairies"
   ]
  },
  {
   "cell_type": "code",
   "execution_count": 2,
   "id": "1451bb12",
   "metadata": {},
   "outputs": [],
   "source": [
    "from sklearn.datasets import load_iris\n",
    "from time import time\n",
    "from sklearn import metrics\n",
    "from sklearn.pipeline import make_pipeline\n",
    "from sklearn.preprocessing import StandardScaler\n",
    "from sklearn.datasets import load_digits\n",
    "import numpy as np"
   ]
  },
  {
   "cell_type": "markdown",
   "id": "b90ada94",
   "metadata": {},
   "source": [
    "### Importation du dataset et affichage d'infos sur les données"
   ]
  },
  {
   "cell_type": "code",
   "execution_count": 15,
   "id": "186cf6fe",
   "metadata": {},
   "outputs": [
    {
     "name": "stdout",
     "output_type": "stream",
     "text": [
      "# digits: 3; # samples: 150; # features 4\n"
     ]
    }
   ],
   "source": [
    "from sklearn.datasets import load_iris\n",
    "data = load_iris()\n",
    "data, labels = load_iris(return_X_y=True)\n",
    "(n_samples, n_features), n_digits = data.shape, np.unique(labels).size\n",
    "\n",
    "print(f\"# digits: {n_digits}; # samples: {n_samples}; # features {n_features}\")"
   ]
  },
  {
   "cell_type": "markdown",
   "id": "bacae2d8",
   "metadata": {},
   "source": [
    "Nous avons 150 echantillons qui comprennent 4 composants"
   ]
  },
  {
   "cell_type": "markdown",
   "id": "68866bb7",
   "metadata": {},
   "source": [
    "Nous allons maintenant créer une fonction qui nous permettra de tester différentes manière de caculer les clusters. Le paramètre principale que nous allons modifier est l'initialisation du centroide.\n",
    "il existe différente manière de l'initialiser et c'est pour cette raison que nous allons créer la fonction qui prendra comme paramètre l'initialisation.\n",
    "Cette fonction nous évitera de devoir relancer cette section de code en entière à chaque nouveau paramètre.\n",
    "La fonction nous permettra aussi d'afficher différentes valeurs de résultats qui nous permettront d'évaluer la meilleur initialisation."
   ]
  },
  {
   "cell_type": "code",
   "execution_count": 5,
   "id": "cd312800",
   "metadata": {},
   "outputs": [],
   "source": [
    "def bench_k_means(kmeans, name, data, labels):\n",
    "    \"\"\"Benchmark to evaluate the KMeans initialization methods.\n",
    "\n",
    "    Parameters\n",
    "    ----------\n",
    "    kmeans : KMeans instance\n",
    "        A :class:`~sklearn.cluster.KMeans` instance with the initialization\n",
    "        already set.\n",
    "    name : str\n",
    "        Name given to the strategy. It will be used to show the results in a\n",
    "        table.\n",
    "    data : ndarray of shape (n_samples, n_features)\n",
    "        The data to cluster.\n",
    "    labels : ndarray of shape (n_samples,)\n",
    "        The labels used to compute the clustering metrics which requires some\n",
    "        supervision.\n",
    "    \"\"\"\n",
    "    t0 = time()\n",
    "    estimator = make_pipeline(StandardScaler(), kmeans).fit(data)\n",
    "    fit_time = time() - t0\n",
    "    results = [name, fit_time, estimator[-1].inertia_]\n",
    "\n",
    "    # Define the metrics which require only the true labels and estimator\n",
    "    # labels\n",
    "    clustering_metrics = [\n",
    "        metrics.homogeneity_score,\n",
    "        metrics.completeness_score,\n",
    "        metrics.v_measure_score,\n",
    "        metrics.adjusted_rand_score,\n",
    "        metrics.adjusted_mutual_info_score,\n",
    "    ]\n",
    "    results += [m(labels, estimator[-1].labels_) for m in clustering_metrics]\n",
    "\n",
    "    # The silhouette score requires the full dataset\n",
    "    results += [\n",
    "        metrics.silhouette_score(\n",
    "            data,\n",
    "            estimator[-1].labels_,\n",
    "            metric=\"euclidean\",\n",
    "            sample_size=300,\n",
    "        )\n",
    "    ]\n",
    "\n",
    "    # Show the results\n",
    "    formatter_result = (\n",
    "        \"{:9s}\\t{:.3f}s\\t{:.0f}\\t{:.3f}\\t{:.3f}\\t{:.3f}\\t{:.3f}\\t{:.3f}\\t{:.3f}\"\n",
    "    )\n",
    "    print(formatter_result.format(*results))"
   ]
  },
  {
   "cell_type": "markdown",
   "id": "51af3a4c",
   "metadata": {},
   "source": [
    "Nous allons maintenant utiliser la fonction précédente avec 3 paramètres d'initialisation différente et pour chacun d'entre eux evaluer les resultats selon :\n",
    "    - le temps de calcul\n",
    "    - homogeneity_score (si les points d'un cluster ont bien le même label)\n",
    "    - completness_score ( si les points d'un label ont bien le même cluster)\n",
    "    - v_measure_score ( la moyenne entre l'homogeity_score et le completness_score)\n",
    "    - l'ajusted rand score et le mutual info score necessite des connaissances plus approfondies et je vous laisse si cela vous interesse vous renseigner sur ses deux valeurs"
   ]
  },
  {
   "cell_type": "markdown",
   "id": "5771f9b1",
   "metadata": {},
   "source": [
    "Les 3 méthodes d'initialisation des centroides seront les suivantes : \n",
    " - Kmeans++ : le but de cette initialisation est d'éparpiller le plus possible le centroide dans le jeu de donnée\n",
    " - random : initialisation de manière totalement aléatoire \n",
    " - Pca-based : interpreter les donnés pour les mettre dans un environnement en 2D(a la place de 4D) et permettre de calculer les centroides en une seule fois"
   ]
  },
  {
   "cell_type": "code",
   "execution_count": 6,
   "id": "1e8b9996",
   "metadata": {},
   "outputs": [
    {
     "name": "stdout",
     "output_type": "stream",
     "text": [
      "__________________________________________________________________________________\n",
      "init\t\ttime\tinertia\thomo\tcompl\tv-meas\tARI\tAMI\tsilhouette\n",
      "k-means++\t0.269s\t69662\t0.680\t0.719\t0.699\t0.570\t0.695\t0.177\n",
      "random   \t0.153s\t69707\t0.675\t0.716\t0.694\t0.560\t0.691\t0.168\n",
      "PCA-based\t0.056s\t72686\t0.636\t0.658\t0.647\t0.521\t0.643\t0.131\n",
      "__________________________________________________________________________________\n"
     ]
    }
   ],
   "source": [
    "from sklearn.cluster import KMeans\n",
    "from sklearn.decomposition import PCA\n",
    "\n",
    "print(82 * \"_\")\n",
    "print(\"init\\t\\ttime\\tinertia\\thomo\\tcompl\\tv-meas\\tARI\\tAMI\\tsilhouette\")\n",
    "\n",
    "kmeans = KMeans(init=\"k-means++\", n_clusters=n_digits, n_init=4, random_state=0)\n",
    "bench_k_means(kmeans=kmeans, name=\"k-means++\", data=data, labels=labels)\n",
    "\n",
    "kmeans = KMeans(init=\"random\", n_clusters=n_digits, n_init=4, random_state=0)\n",
    "bench_k_means(kmeans=kmeans, name=\"random\", data=data, labels=labels)\n",
    "\n",
    "pca = PCA(n_components=n_digits).fit(data)\n",
    "kmeans = KMeans(init=pca.components_, n_clusters=n_digits, n_init=1)\n",
    "bench_k_means(kmeans=kmeans, name=\"PCA-based\", data=data, labels=labels)\n",
    "\n",
    "print(82 * \"_\")"
   ]
  },
  {
   "cell_type": "markdown",
   "id": "9de7ec16",
   "metadata": {},
   "source": [
    "D'après le tableau ci dessus, nous allons considérer que le plus performant est le k-means++, c'est celui qui est proposé par défault avec k-means"
   ]
  },
  {
   "cell_type": "markdown",
   "id": "67fe5fa0",
   "metadata": {},
   "source": [
    "PCA va nous permettre de transformer notre environnement 4D (notre échantillon a 4 composante) en 2D.\n",
    "Matplotlib va nous permettre d'afficher visuellement nos 3 regroupement d'échantillon grâce a la transformation en 2D de PCA\n",
    "Les centroides de chaque cluster seront affichés par des croix blanches.\n"
   ]
  },
  {
   "cell_type": "code",
   "execution_count": 19,
   "id": "f75b37fc",
   "metadata": {},
   "outputs": [
    {
     "data": {
      "image/png": "[encoded data removed]",
      "text/plain": [
       "<Figure size 432x288 with 1 Axes>"
      ]
     },
     "metadata": {},
     "output_type": "display_data"
    }
   ],
   "source": [
    "import matplotlib.pyplot as plt\n",
    "\n",
    "reduced_data = PCA(n_components=2).fit_transform(data)\n",
    "kmeans = KMeans(init=\"k-means++\", n_clusters=n_digits, n_init=4)\n",
    "kmeans.fit(reduced_data)\n",
    "\n",
    "# Step size of the mesh. Decrease to increase the quality of the VQ.\n",
    "h = 0.02  # point in the mesh [x_min, x_max]x[y_min, y_max].\n",
    "\n",
    "# Plot the decision boundary. For that, we will assign a color to each\n",
    "x_min, x_max = reduced_data[:, 0].min() - 1, reduced_data[:, 0].max() + 1\n",
    "y_min, y_max = reduced_data[:, 1].min() - 1, reduced_data[:, 1].max() + 1\n",
    "xx, yy = np.meshgrid(np.arange(x_min, x_max, h), np.arange(y_min, y_max, h))\n",
    "\n",
    "# Obtain labels for each point in mesh. Use last trained model.\n",
    "Z = kmeans.predict(np.c_[xx.ravel(), yy.ravel()])\n",
    "\n",
    "# Put the result into a color plot\n",
    "Z = Z.reshape(xx.shape)\n",
    "plt.figure(1)\n",
    "plt.clf()\n",
    "plt.imshow(\n",
    "    Z,\n",
    "    interpolation=\"nearest\",\n",
    "    extent=(xx.min(), xx.max(), yy.min(), yy.max()),\n",
    "    cmap=plt.cm.Paired,\n",
    "    aspect=\"auto\",\n",
    "    origin=\"lower\",\n",
    ")\n",
    "\n",
    "plt.plot(reduced_data[:, 0], reduced_data[:, 1], \"k.\", markersize=2)\n",
    "# Plot the centroids as a white X\n",
    "centroids = kmeans.cluster_centers_\n",
    "plt.scatter(\n",
    "    centroids[:, 0],\n",
    "    centroids[:, 1],\n",
    "    marker=\"x\",\n",
    "    s=169,\n",
    "    linewidths=3,\n",
    "    color=\"w\",\n",
    "    zorder=10,\n",
    ")\n",
    "plt.title(\n",
    "    \"K-means clustering du dataset iris\\n\"\n",
    "    \"Les croix blanches sont les centroides de chaque cluster\"\n",
    ")\n",
    "plt.xlim(x_min, x_max)\n",
    "plt.ylim(y_min, y_max)\n",
    "plt.xticks(())\n",
    "plt.yticks(())\n",
    "plt.show()"
   ]
  },
  {
   "cell_type": "code",
   "execution_count": null,
   "id": "3e36e2a4",
   "metadata": {},
   "outputs": [],
   "source": []
  }
 ],
 "metadata": {
  "kernelspec": {
   "display_name": "Python 3 (ipykernel)",
   "language": "python",
   "name": "python3"
  },
  "language_info": {
   "codemirror_mode": {
    "name": "ipython",
    "version": 3
   },
   "file_extension": ".py",
   "mimetype": "text/x-python",
   "name": "python",
   "nbconvert_exporter": "python",
   "pygments_lexer": "ipython3",
   "version": "3.9.12"
  }
 },
 "nbformat": 4,
 "nbformat_minor": 5
}
